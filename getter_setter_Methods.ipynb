{
 "cells": [
  {
   "cell_type": "code",
   "execution_count": null,
   "metadata": {},
   "outputs": [],
   "source": [
    "# Getter Methods :\n",
    "\n",
    "# A getter method is used to access (read) the value of a private attribute.\n",
    "#  It allows you to control how an attribute is retrieved.\n",
    "\n",
    "# Setter Methods :\n",
    "\n",
    "# A setter method is used to set (update) the value of a private attribute. \n",
    "# It allows you to add validation or other logic when an attribute's value is changed."
   ]
  },
  {
   "cell_type": "code",
   "execution_count": 3,
   "metadata": {},
   "outputs": [
    {
     "ename": "AttributeError",
     "evalue": "'Person' object has no attribute '__name'",
     "output_type": "error",
     "traceback": [
      "\u001b[1;31m---------------------------------------------------------------------------\u001b[0m",
      "\u001b[1;31mAttributeError\u001b[0m                            Traceback (most recent call last)",
      "Cell \u001b[1;32mIn[3], line 12\u001b[0m\n\u001b[0;32m      7\u001b[0m         \u001b[38;5;28mself\u001b[39m\u001b[38;5;241m.\u001b[39m__name \u001b[38;5;241m=\u001b[39m \u001b[38;5;28;01mNone\u001b[39;00m\n\u001b[0;32m     10\u001b[0m person_1 \u001b[38;5;241m=\u001b[39m Person()\n\u001b[1;32m---> 12\u001b[0m \u001b[38;5;28mprint\u001b[39m(\u001b[43mperson_1\u001b[49m\u001b[38;5;241;43m.\u001b[39;49m\u001b[43m__name\u001b[49m)    \u001b[38;5;66;03m# AttributeError: 'Person' object has no attribute '__name'\u001b[39;00m\n",
      "\u001b[1;31mAttributeError\u001b[0m: 'Person' object has no attribute '__name'"
     ]
    }
   ],
   "source": [
    "# Examples 1:\n",
    "\n",
    "class Person:\n",
    "\n",
    "    def __init__(self):\n",
    "\n",
    "        self.__name = None\n",
    "\n",
    "    \n",
    "person_1 = Person()\n",
    "\n",
    "print(person_1.__name)    # AttributeError: 'Person' object has no attribute '__name'"
   ]
  },
  {
   "cell_type": "code",
   "execution_count": 5,
   "metadata": {},
   "outputs": [
    {
     "data": {
      "text/plain": [
       "'HariYogeshRam'"
      ]
     },
     "execution_count": 5,
     "metadata": {},
     "output_type": "execute_result"
    }
   ],
   "source": [
    "# Examples 1: [get set method]\n",
    "\n",
    "class Person:\n",
    "\n",
    "    def __init__(self):\n",
    "\n",
    "        self.__name = None\n",
    "\n",
    "    # set methods => to access private variables\n",
    "\n",
    "    def SetName(self, value):\n",
    "\n",
    "        self.__name = value\n",
    "\n",
    "    # get methods => to return the values \n",
    "\n",
    "    def GetName(self):\n",
    "\n",
    "        return self.__name\n",
    "\n",
    "    \n",
    "person_1 = Person()\n",
    "\n",
    "person_1.SetName(\"HariYogeshRam\")\n",
    "\n",
    "person_1.GetName()"
   ]
  },
  {
   "cell_type": "code",
   "execution_count": 12,
   "metadata": {},
   "outputs": [
    {
     "ename": "AttributeError",
     "evalue": "property 'name' of 'Person' object has no setter",
     "output_type": "error",
     "traceback": [
      "\u001b[1;31m---------------------------------------------------------------------------\u001b[0m",
      "\u001b[1;31mAttributeError\u001b[0m                            Traceback (most recent call last)",
      "Cell \u001b[1;32mIn[12], line 50\u001b[0m\n\u001b[0;32m     46\u001b[0m \u001b[38;5;66;03m# ----------------------------------------------------------------------------------------------------------------\u001b[39;00m\n\u001b[0;32m     48\u001b[0m person_1 \u001b[38;5;241m=\u001b[39m Person()\n\u001b[1;32m---> 50\u001b[0m \u001b[43mperson_1\u001b[49m\u001b[38;5;241;43m.\u001b[39;49m\u001b[43mname\u001b[49m \u001b[38;5;241m=\u001b[39m \u001b[38;5;124m\"\u001b[39m\u001b[38;5;124mHariYogeshRamBaskarThangaraj\u001b[39m\u001b[38;5;124m\"\u001b[39m  \u001b[38;5;66;03m# set the values\u001b[39;00m\n\u001b[0;32m     52\u001b[0m person_1\u001b[38;5;241m.\u001b[39mage \u001b[38;5;241m=\u001b[39m \u001b[38;5;241m-\u001b[39m\u001b[38;5;241m2\u001b[39m  \u001b[38;5;66;03m# set the values\u001b[39;00m\n\u001b[0;32m     54\u001b[0m \u001b[38;5;28mprint\u001b[39m(person_1\u001b[38;5;241m.\u001b[39mname) \u001b[38;5;66;03m# get the values\u001b[39;00m\n",
      "\u001b[1;31mAttributeError\u001b[0m: property 'name' of 'Person' object has no setter"
     ]
    }
   ],
   "source": [
    "# Examples 1: [get set method]\n",
    "\n",
    "class Person:\n",
    "\n",
    "    def __init__(self):\n",
    "\n",
    "        self.__name = None\n",
    "        self.__age = None\n",
    "\n",
    "    # Use Decorators \n",
    "\n",
    "    # get methods => to return the values \n",
    "\n",
    "    @property\n",
    "    def name(self):\n",
    "\n",
    "        if self.__name is None:\n",
    "\n",
    "            return \"Please Initialize Your Name!..\"\n",
    "\n",
    "        return self.__name\n",
    "\n",
    "    @name.setter\n",
    "    def name(self, value):\n",
    "\n",
    "        if name > 20:\n",
    "\n",
    "            print(\"Can't set Name having more than 20 characters \")\n",
    "            \n",
    "        else:\n",
    "\n",
    "            self.__name = value\n",
    "\n",
    "    @property\n",
    "    def age(self):\n",
    "\n",
    "        if self.__age is None:\n",
    "\n",
    "            return(\"Please Enter Your Age!...\")\n",
    "\n",
    "        return self.__age\n",
    "\n",
    "    # set methods => to access private variables\n",
    "\n",
    "    # use decorators\n",
    "    @age.setter\n",
    "    def age(self, value):\n",
    "\n",
    "        if age < 0:\n",
    "\n",
    "            print(\"Can't Set the Age. So please set the age with positive whole number!..\")\n",
    "            \n",
    "        else:\n",
    "\n",
    "            self.__age = value\n",
    "\n",
    "# ----------------------------------------------------------------------------------------------------------------\n",
    "    \n",
    "person_1 = Person()\n",
    "\n",
    "person_1.name = \"HariYogeshRamBaskarThangaraj\"  # set the values\n",
    "\n",
    "person_1.age = -2  # set the values\n",
    "\n",
    "print(person_1.name) # get the values\n",
    "\n",
    "print(person_1.age)  # get the values\n",
    "\n",
    "print(\"\\n ------------------------------------------------------------------------------------------------------------\")\n",
    "\n",
    "# ----------------------------------------------------------------------------------------------------------------------\n",
    "\n",
    "print(\"\\n\")\n",
    "\n",
    "person_2 = Person()\n",
    "\n",
    "person_2.name = \"HariYogeshRam\"  # set the values\n",
    "\n",
    "print(person_2.name) # get the values\n",
    "\n",
    "print(\"\\n ------------------------------------------------------------------------------------------------------------\")\n",
    "\n"
   ]
  }
 ],
 "metadata": {
  "kernelspec": {
   "display_name": "Python 3",
   "language": "python",
   "name": "python3"
  },
  "language_info": {
   "codemirror_mode": {
    "name": "ipython",
    "version": 3
   },
   "file_extension": ".py",
   "mimetype": "text/x-python",
   "name": "python",
   "nbconvert_exporter": "python",
   "pygments_lexer": "ipython3",
   "version": "3.12.1"
  }
 },
 "nbformat": 4,
 "nbformat_minor": 2
}
