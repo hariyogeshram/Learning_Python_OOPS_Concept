{
 "cells": [
  {
   "cell_type": "code",
   "execution_count": 2,
   "metadata": {},
   "outputs": [],
   "source": [
    "# Encapsulation :\n",
    "\n",
    "# Refers to bundling data (attributes) and methods (functions)\n",
    "# That operate on that data into a \"single unit\" or class."
   ]
  },
  {
   "cell_type": "code",
   "execution_count": 1,
   "metadata": {},
   "outputs": [],
   "source": [
    "# Key Features:\n",
    "\n",
    "# Access Modifiers --> Public ,  Protected(_abc), Private(__abc)\n"
   ]
  },
  {
   "cell_type": "code",
   "execution_count": null,
   "metadata": {},
   "outputs": [],
   "source": [
    "# 1) Public Members:\n",
    "\n",
    "# Accessible from outside the class / Anywhere.\n",
    "# Defined without any leading underscores().\n",
    "\n",
    "# Example: self.name"
   ]
  },
  {
   "cell_type": "code",
   "execution_count": null,
   "metadata": {},
   "outputs": [],
   "source": [
    "# 2) Protected Members:\n",
    "\n",
    "# Should not be accessed directly from outside the class.\n",
    "# Defined with a single leading underscore(_).\n",
    "\n",
    "# Example: self._name"
   ]
  },
  {
   "cell_type": "code",
   "execution_count": null,
   "metadata": {},
   "outputs": [],
   "source": [
    "# 3) Private Members:\n",
    "\n",
    "# Cannot be accessed or modified directly from outside the class.\n",
    "# Defined with a double leading underscore(__).\n",
    "\n",
    "# Example: self.__name\n",
    "\n",
    "# Name mangling is used to make them harder to access."
   ]
  },
  {
   "cell_type": "code",
   "execution_count": null,
   "metadata": {},
   "outputs": [],
   "source": [
    "# Uses of Encapsulation:\n",
    "\n",
    "# 1) Data Hiding:\n",
    "\n",
    "#  - Restrict access to specific attributes and methods.\n",
    "#  - Ensures internal object details are hidden from the outside world.\n",
    "\n",
    "# 2) Controlled Access:\n",
    "\n",
    "#  - Provides methods to modify data, ensuring only valid data is assigned.\n",
    "#  - Example: Getters and setters methods.\n",
    "\n",
    "# 3) Code Maintenance:\n",
    "\n",
    "#  - Makes the code more modular and easier to maintain.\n",
    "#  - Changes to encapsulated code can be made independently of the rest of the program."
   ]
  },
  {
   "cell_type": "code",
   "execution_count": null,
   "metadata": {},
   "outputs": [],
   "source": [
    "# Advantages of Encapsulation:\n",
    "\n",
    "# 1) Improved Security:\n",
    "\n",
    "# Protects the integrity of the data by preventing unintended interference and misuse.\n",
    "\n",
    "# 2) Enhanced Flexibility:\n",
    "\n",
    "# Allows the internal implementation of a class to be changed without affecting external code.\n",
    "\n",
    "# 3) Code Reusability:\n",
    "\n",
    "# Encapsulated code can be reused across different parts of the program or in different programs.\n",
    "\n",
    "# 4) Reduced Complexity:\n",
    "\n",
    "# Encapsulation helps manage complexity by keeping data and methods that manipulate the data in a single place."
   ]
  },
  {
   "cell_type": "code",
   "execution_count": 10,
   "metadata": {},
   "outputs": [
    {
     "name": "stdout",
     "output_type": "stream",
     "text": [
      "School Name :  Ananda \n",
      " School Place :  RJPM \n",
      " School Revenue :  5000000\n"
     ]
    }
   ],
   "source": [
    "# Examples :  [ Public members ]\n",
    "\n",
    "class School:\n",
    "\n",
    "    def __init__(self, name, place):\n",
    "\n",
    "        self.Name = name\n",
    "        self.Place = place\n",
    "        # self.Revenue = revenue\n",
    "\n",
    "    # def get_school_details(self):\n",
    "\n",
    "        # print(\"School Name : \",self.Name,\"\\n School Place : \",self.Place,\"\\n School Revenue : \",self.Revenue)\n",
    "\n",
    "\n",
    "class school_info(School):\n",
    "\n",
    "    def __init__(self, name, place, revenue):\n",
    "\n",
    "        super().__init__(name, place)\n",
    "\n",
    "        self.Revenue = revenue\n",
    "\n",
    "\n",
    "    def get_school_details(self):\n",
    "\n",
    "        print(\"School Name : \",self.Name,\"\\n School Place : \",self.Place,\"\\n School Revenue : \",self.Revenue)\n",
    "\n",
    "\n",
    "    \n",
    "school_1 = school_info(\"Ananda\", \"RJPM\", 5000000)\n",
    "\n",
    "school_1.get_school_details()"
   ]
  },
  {
   "cell_type": "code",
   "execution_count": 26,
   "metadata": {},
   "outputs": [
    {
     "name": "stdout",
     "output_type": "stream",
     "text": [
      "\n",
      " School Name: Ananda, \n",
      " School Place: RJPM, \n",
      " School Revenue: 5000000\n"
     ]
    }
   ],
   "source": [
    "# Examples :  [ protected members ]\n",
    "\n",
    "class School:\n",
    "\n",
    "    def __init__(self, name, place):\n",
    "\n",
    "        self._name = name  # Protected member\n",
    "        self._place = place  # Protected member\n",
    "\n",
    "    def _get_school_details(self):  # Private method\n",
    "        \n",
    "        return f\"\\n School Name: {self._name}, \\n School Place: {self._place}\"\n",
    "\n",
    "\n",
    "class SchoolInfo(School):\n",
    "\n",
    "    def __init__(self, name, place, revenue):\n",
    "\n",
    "        super().__init__(name, place)\n",
    "        self._revenue = revenue  # Protected member\n",
    "\n",
    "    def get_school_details(self):\n",
    "        base_details = self._get_school_details()  # Accessing protected method from parent class\n",
    "        return f\"{base_details}, \\n School Revenue: {self._revenue}\"\n",
    "\n",
    "\n",
    "# Creating an instance of SchoolInfo\n",
    "school_1 = SchoolInfo(\"Ananda\", \"RJPM\", 5000000)\n",
    "\n",
    "# Accessing the public method which internally uses protected members\n",
    "print(school_1.get_school_details())\n"
   ]
  },
  {
   "cell_type": "code",
   "execution_count": 27,
   "metadata": {},
   "outputs": [
    {
     "name": "stdout",
     "output_type": "stream",
     "text": [
      "\n",
      " School Name: Ananda, \n",
      " School Place: RJPM, \n",
      " School Revenue: 5000000\n"
     ]
    }
   ],
   "source": [
    "# Examples :  [ Private members ]\n",
    "\n",
    "\n",
    "class School:\n",
    "\n",
    "    def __init__(self, name, place):\n",
    "\n",
    "        self.__name = name  # Private member\n",
    "        self.__place = place  # Private member\n",
    "\n",
    "    def __get_school_details(self):  # Private method\n",
    "\n",
    "        return f\"\\n School Name: {self.__name}, \\n School Place: {self.__place}\"\n",
    "\n",
    "    def _get_school_details(self):  # Protected method to access private details\n",
    "\n",
    "        return self.__get_school_details()\n",
    "\n",
    "\n",
    "class SchoolInfo(School):\n",
    "\n",
    "    def __init__(self, name, place, revenue):\n",
    "\n",
    "        super().__init__(name, place)\n",
    "\n",
    "        self.__revenue = revenue  # Private member\n",
    "\n",
    "    def get_school_details(self):\n",
    "\n",
    "        base_details = self._get_school_details()  # Accessing protected method from parent class\n",
    "\n",
    "        return f\"{base_details}, \\n School Revenue: {self.__revenue}\"\n",
    "\n",
    "\n",
    "# Creating an instance of SchoolInfo\n",
    "school_1 = SchoolInfo(\"Ananda\", \"RJPM\", 5000000)\n",
    "\n",
    "# Accessing the public method which internally uses private members\n",
    "print(school_1.get_school_details())\n"
   ]
  }
 ],
 "metadata": {
  "kernelspec": {
   "display_name": "Python 3",
   "language": "python",
   "name": "python3"
  },
  "language_info": {
   "codemirror_mode": {
    "name": "ipython",
    "version": 3
   },
   "file_extension": ".py",
   "mimetype": "text/x-python",
   "name": "python",
   "nbconvert_exporter": "python",
   "pygments_lexer": "ipython3",
   "version": "3.12.1"
  }
 },
 "nbformat": 4,
 "nbformat_minor": 2
}
