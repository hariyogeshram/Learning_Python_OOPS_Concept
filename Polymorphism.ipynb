{
 "cells": [
  {
   "cell_type": "code",
   "execution_count": 1,
   "metadata": {},
   "outputs": [],
   "source": [
    "# Polymorphism\n",
    "\n",
    "#  Poly     => Many\n",
    "#  Morphism => Forms\n",
    "\n",
    "#  It refers to \"methods/functions/operators\" with the (same name) that can be executed on 'many' [objects or classes].\n",
    "\n",
    "# 2 types :  \n",
    "\n",
    "# 1) Compile time Polymorphism\n",
    "# 2) Runtime Polymorphism\n"
   ]
  },
  {
   "cell_type": "code",
   "execution_count": null,
   "metadata": {},
   "outputs": [],
   "source": [
    "# Uses :\n",
    "\n",
    "#               Allows us to perform a \"single action\" in (different ways)."
   ]
  },
  {
   "cell_type": "code",
   "execution_count": null,
   "metadata": {},
   "outputs": [],
   "source": [
    "# Real Time Examples : (Polymorphism)\n",
    "\n",
    "#  A person at the same time can have different characteristics.\n",
    "\n",
    "#  Like a man at the same time is a father, a husband, an employee. \n",
    "\n",
    "#  So the same person possesses different behavior in different situations."
   ]
  },
  {
   "cell_type": "code",
   "execution_count": null,
   "metadata": {},
   "outputs": [],
   "source": [
    "# Compile Time Polymorphism :\n",
    "\n",
    "#  It is primarily achieved through \"function overloading\",\n",
    "#  Although Python does not support( true function overloading). \n",
    "#  However, you can define \"functions\" with the \"same name\" in Python, \n",
    "#  but only the \"latest defined function\" will be \"considered\"."
   ]
  },
  {
   "cell_type": "code",
   "execution_count": 4,
   "metadata": {},
   "outputs": [
    {
     "name": "stdout",
     "output_type": "stream",
     "text": [
      "Sleeping Duration =  11\n"
     ]
    }
   ],
   "source": [
    "# Coding Examples : [ COMPILE TIME POLYMORPHISM]\n",
    "\n",
    "class Person:\n",
    "\n",
    "    def __init__(self, name, age):\n",
    "\n",
    "        self.name = name\n",
    "        self.age = age\n",
    "\n",
    "\n",
    "    def sleep(self, sleeping_hours = 0, start = 21, end = 10):\n",
    "\n",
    "        if start is not None and end is not None:\n",
    "\n",
    "            print(\"Sleeping Duration = \", abs(end - start))\n",
    "\n",
    "        else :\n",
    "\n",
    "            print(\"Sleeping Duration = \", sleeping_hours)                                                                                                                                                                                                                                                                                                                                                                                                                                                                                                                                                                                                                                                                                                                                                                                                                                                                                                                                                                                                                                                                                                                                                                                                                                                                                                                                                                                                                                                                                                                                                                                                                                                                                                                                                                                                                                                                                                                  \n",
    "\n",
    "\n",
    "\n",
    "person_1 = Person(\"Hari\", 24)\n",
    "\n",
    "person_1.sleep(8)\n",
    "\n",
    "\n",
    "\n"
   ]
  },
  {
   "cell_type": "code",
   "execution_count": null,
   "metadata": {},
   "outputs": [],
   "source": [
    "#                                              Run-Time Polymorphism (Dynamic Binding):\n",
    "\n",
    "\n",
    "#  Run-time polymorphism in Python is typically achieved through method overriding. \n",
    "#  You can override methods in a subclass to provide specific implementations.\n",
    "#  The method that gets called is determined at runtime based on the object's actual type."
   ]
  },
  {
   "cell_type": "code",
   "execution_count": 5,
   "metadata": {},
   "outputs": [
    {
     "name": "stdout",
     "output_type": "stream",
     "text": [
      "The area is: 78.5\n",
      "The area is: 24\n"
     ]
    }
   ],
   "source": [
    "# Coding Examples :\n",
    "\n",
    "class Shape:\n",
    "\n",
    "    def area(self):\n",
    "        raise NotImplementedError(\"Subclass must implement abstract method\")\n",
    "\n",
    "class Circle(Shape):\n",
    "\n",
    "    def __init__(self, radius):\n",
    "        self.radius = radius\n",
    "\n",
    "    def area(self):\n",
    "        return 3.14 * self.radius * self.radius\n",
    "\n",
    "class Rectangle(Shape):\n",
    "\n",
    "    def __init__(self, length, breadth):\n",
    "        self.length = length\n",
    "        self.breadth = breadth\n",
    "\n",
    "    def area(self):\n",
    "        return self.length * self.breadth\n",
    "\n",
    "# Function to print area of any shape\n",
    "def print_area(shape):\n",
    "    \n",
    "    print(f\"The area is: {shape.area()}\")\n",
    "\n",
    "# Creating instances of Circle and Rectangle\n",
    "circle = Circle(5)\n",
    "rectangle = Rectangle(4, 6)\n",
    "\n",
    "# Demonstrating runtime polymorphism\n",
    "print_area(circle)\n",
    "print_area(rectangle)\n"
   ]
  }
 ],
 "metadata": {
  "kernelspec": {
   "display_name": "Python 3",
   "language": "python",
   "name": "python3"
  },
  "language_info": {
   "codemirror_mode": {
    "name": "ipython",
    "version": 3
   },
   "file_extension": ".py",
   "mimetype": "text/x-python",
   "name": "python",
   "nbconvert_exporter": "python",
   "pygments_lexer": "ipython3",
   "version": "3.12.1"
  }
 },
 "nbformat": 4,
 "nbformat_minor": 2
}
