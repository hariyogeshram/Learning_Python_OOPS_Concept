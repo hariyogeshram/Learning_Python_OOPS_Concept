{
 "cells": [
  {
   "cell_type": "code",
   "execution_count": null,
   "metadata": {},
   "outputs": [],
   "source": [
    "# super() :\n",
    "\n",
    "#   The super() function is used to give access to methods and properties of a parent or sibling class. \n",
    "#   The super() function returns an object that represents the parent class."
   ]
  },
  {
   "cell_type": "code",
   "execution_count": null,
   "metadata": {},
   "outputs": [],
   "source": [
    "# Use of super() :\n",
    "\n",
    "#  Allows you to avoid -> \"hardcoding class names\" in your methods.\n",
    "#  Making your code more maintainable and flexible."
   ]
  },
  {
   "cell_type": "code",
   "execution_count": 4,
   "metadata": {},
   "outputs": [
    {
     "name": "stdout",
     "output_type": "stream",
     "text": [
      "parent is having a driving Talent\n",
      "Child is having a driving Talent Now because of Parent's Genes\n"
     ]
    }
   ],
   "source": [
    "# Example 1 :\n",
    "\n",
    "class Parent:\n",
    "\n",
    "    def drive(self):\n",
    "\n",
    "        print(\"parent is having a driving Talent\")\n",
    "\n",
    "\n",
    "class Child(Parent):\n",
    "\n",
    "    def drive(self):\n",
    "\n",
    "        super().drive()\n",
    "\n",
    "        print(\"Child is having a driving Talent Now because of Parent's Genes\")\n",
    "\n",
    "\n",
    "# obj creation\n",
    "\n",
    "child1 = Child()\n",
    "\n",
    "child1.drive()\n",
    "\n",
    "\n"
   ]
  },
  {
   "cell_type": "code",
   "execution_count": 5,
   "metadata": {},
   "outputs": [
    {
     "name": "stdout",
     "output_type": "stream",
     "text": [
      "Child Constructor is Invoked\n"
     ]
    },
    {
     "data": {
      "text/plain": [
       "1000000"
      ]
     },
     "execution_count": 5,
     "metadata": {},
     "output_type": "execute_result"
    }
   ],
   "source": [
    "# Examples - 2 :\n",
    "\n",
    "class Parent :\n",
    "\n",
    "    def __init__(self, netWorth):\n",
    "\n",
    "        self.netWorth = netWorth\n",
    "\n",
    "\n",
    "class Child(Parent):\n",
    "\n",
    "    def __init__(self, netWorth):\n",
    "\n",
    "        super().__init__(netWorth)\n",
    "\n",
    "        print(\"Child Constructor is Invoked\")\n",
    "\n",
    "\n",
    "child1 = Child(1000000)\n",
    "\n",
    "child1.netWorth"
   ]
  },
  {
   "cell_type": "code",
   "execution_count": 10,
   "metadata": {},
   "outputs": [
    {
     "name": "stdout",
     "output_type": "stream",
     "text": [
      "Parent has a Singing Talent\n",
      "Relative has a Singing Talent.\n",
      "Child's unique method\n",
      "(<class '__main__.Child'>, <class '__main__.Relative'>, <class '__main__.Parent'>, <class 'object'>)\n"
     ]
    }
   ],
   "source": [
    "class Parent:\n",
    "\n",
    "    def sing(self):\n",
    "        print(\"Parent has a Singing Talent\")\n",
    "\n",
    "class Relative(Parent):\n",
    "\n",
    "    def drive(self):\n",
    "        print(\"Relative has a Driving Talent.\")\n",
    "\n",
    "    def sing(self):\n",
    "        print(\"Relative has a Singing Talent.\")\n",
    "\n",
    "class Child(Relative, Parent):\n",
    "    \n",
    "    def common_talent(self):\n",
    "        # Call the sing method from the Parent class\n",
    "        Parent.sing(self)\n",
    "    \n",
    "    def mfo(self):\n",
    "        print(\"Child's unique method\")\n",
    "\n",
    "# Create an instance of Child\n",
    "children = Child()\n",
    "\n",
    "# Call the common_talent method\n",
    "children.common_talent()\n",
    "\n",
    "# Call the sing method from Relative class\n",
    "Relative.sing(children)\n",
    "\n",
    "# Call and print the mfo method from Child class\n",
    "children.mfo()\n",
    "\n",
    "# Print the Method Resolution Order (MRO)\n",
    "print(Child.__mro__)\n"
   ]
  }
 ],
 "metadata": {
  "kernelspec": {
   "display_name": "Python 3",
   "language": "python",
   "name": "python3"
  },
  "language_info": {
   "codemirror_mode": {
    "name": "ipython",
    "version": 3
   },
   "file_extension": ".py",
   "mimetype": "text/x-python",
   "name": "python",
   "nbconvert_exporter": "python",
   "pygments_lexer": "ipython3",
   "version": "3.12.1"
  }
 },
 "nbformat": 4,
 "nbformat_minor": 2
}
